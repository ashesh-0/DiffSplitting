{
 "cells": [
  {
   "cell_type": "code",
   "execution_count": 1,
   "metadata": {},
   "outputs": [],
   "source": [
    "!mkdir -p /group/jug/ashesh/data/diffsplit_hagen"
   ]
  },
  {
   "cell_type": "code",
   "execution_count": 2,
   "metadata": {},
   "outputs": [],
   "source": [
    "from disentangle.core.tiff_reader import load_tiff\n",
    "mito_data = load_tiff('/group/jug/ashesh/data/ventura_gigascience/mito-60x-noise2-highsnr.tif')\n",
    "actin_data = load_tiff('/group/jug/ashesh/data/ventura_gigascience/actin-60x-noise2-highsnr.tif')"
   ]
  },
  {
   "cell_type": "code",
   "execution_count": 3,
   "metadata": {},
   "outputs": [],
   "source": [
    "import numpy as np  \n",
    "N = len(mito_data)\n",
    "assert N == len(actin_data)\n",
    "train_frac = 0.8\n",
    "val_frac = 0.1\n",
    "perm_indices = np.random.RandomState(955).permutation(len(mito_data))\n",
    "train_indices = perm_indices[:int(train_frac*N)]\n",
    "val_indices = perm_indices[int(train_frac*N):int((train_frac+val_frac)*N)]\n",
    "test_indices = perm_indices[int((train_frac+val_frac)*N):]\n"
   ]
  },
  {
   "cell_type": "code",
   "execution_count": null,
   "metadata": {},
   "outputs": [],
   "source": [
    "from disentangle.core.tiff_reader import save_tiff\n",
    "save_tiff('/group/jug/ashesh/data/diffsplit_hagen/val/val_mito-60x-noise2-highsnr.tif', mito_data[val_indices])\n",
    "save_tiff('/group/jug/ashesh/data/diffsplit_hagen/val/val_actin-60x-noise2-highsnr.tif', actin_data[val_indices])\n",
    "save_tiff('/group/jug/ashesh/data/diffsplit_hagen/train/train_mito-60x-noise2-highsnr.tif', mito_data[train_indices])\n",
    "save_tiff('/group/jug/ashesh/data/diffsplit_hagen/train/train_actin-60x-noise2-highsnr.tif', actin_data[train_indices])\n",
    "save_tiff('/group/jug/ashesh/data/diffsplit_hagen/test/test_mito-60x-noise2-highsnr.tif', mito_data[test_indices])\n",
    "save_tiff('/group/jug/ashesh/data/diffsplit_hagen/test/test_actin-60x-noise2-highsnr.tif', actin_data[test_indices])"
   ]
  }
 ],
 "metadata": {
  "kernelspec": {
   "display_name": "Python 3",
   "language": "python",
   "name": "python3"
  },
  "language_info": {
   "codemirror_mode": {
    "name": "ipython",
    "version": 3
   },
   "file_extension": ".py",
   "mimetype": "text/x-python",
   "name": "python",
   "nbconvert_exporter": "python",
   "pygments_lexer": "ipython3",
   "version": "3.9.19"
  }
 },
 "nbformat": 4,
 "nbformat_minor": 2
}
