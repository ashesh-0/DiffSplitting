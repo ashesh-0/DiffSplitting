{
 "cells": [
  {
   "cell_type": "code",
   "execution_count": 1,
   "metadata": {},
   "outputs": [],
   "source": [
    "import sys\n",
    "sys.path.append('..')"
   ]
  },
  {
   "cell_type": "code",
   "execution_count": 2,
   "metadata": {},
   "outputs": [],
   "source": [
    "from core.logger import load_json\n",
    "opt = load_json('../config/splitting_hagen_classifier.json')"
   ]
  },
  {
   "cell_type": "code",
   "execution_count": 3,
   "metadata": {},
   "outputs": [
    {
     "name": "stderr",
     "output_type": "stream",
     "text": [
      "INFO:albumentations.check_version:A new version of Albumentations is available: 1.4.17 (you have 1.4.7). Upgrade using: pip install --upgrade albumentations\n"
     ]
    }
   ],
   "source": [
    "from data.time_predictor_dataset import TimePredictorDataset\n",
    "from data.split_dataset import DataLocation\n",
    "\n",
    "\n",
    "def get_datasets(opt, tiled_pred=False):\n",
    "    patch_size = opt['datasets']['patch_size']\n",
    "    target_channel_idx = opt['datasets'].get('target_channel_idx', None)\n",
    "    upper_clip = opt['datasets'].get('upper_clip', None)\n",
    "    max_qval = opt['datasets']['max_qval']\n",
    "    channel_weights = opt['datasets'].get('channel_weights', None)\n",
    "\n",
    "    data_type = opt['datasets']['train']['name']  \n",
    "    uncorrelated_channels = opt['datasets']['train']['uncorrelated_channels']\n",
    "    assert data_type in ['cifar10', 'Hagen']\n",
    "    if data_type == 'Hagen':\n",
    "        train_data_location = DataLocation(channelwise_fpath=(opt['datasets']['train']['datapath']['ch0'],\n",
    "                                                        opt['datasets']['train']['datapath']['ch1']))\n",
    "        val_data_location = DataLocation(channelwise_fpath=(opt['datasets']['val']['datapath']['ch0'],\n",
    "                                                        opt['datasets']['val']['datapath']['ch1']))\n",
    "    elif data_type == 'cifar10':\n",
    "        train_data_location = DataLocation(directory=(opt['datasets']['train']['datapath']))\n",
    "        val_data_location = DataLocation(directory=(opt['datasets']['val']['datapath']))\n",
    "    \n",
    "    \n",
    "    train_set = TimePredictorDataset(data_type, train_data_location, patch_size, \n",
    "                             target_channel_idx=target_channel_idx, \n",
    "                                max_qval=max_qval, upper_clip=upper_clip,\n",
    "                                uncorrelated_channels=uncorrelated_channels,\n",
    "                                channel_weights=channel_weights,\n",
    "                             normalization_dict=None, enable_transforms=True,random_patching=True)\n",
    "\n",
    "    if not tiled_pred:\n",
    "        class_obj = TimePredictorDataset \n",
    "    else:\n",
    "        data_shape = (10, 2048, 2048)\n",
    "        tile_manager = get_tile_manager(data_shape, (1, patch_size//2, patch_size//2), (1, patch_size, patch_size))\n",
    "        class_obj = get_tiling_dataset(TimePredictorDataset, tile_manager)\n",
    "\n",
    "    val_set = class_obj(data_type, val_data_location, patch_size, target_channel_idx=target_channel_idx,\n",
    "                           normalization_dict=train_set.get_normalization_dict(),\n",
    "                           max_qval=max_qval,\n",
    "                            upper_clip=upper_clip,\n",
    "                            channel_weights=channel_weights,\n",
    "                           enable_transforms=False,\n",
    "                                                     random_patching=False)\n",
    "    return train_set, val_set\n",
    "\n"
   ]
  },
  {
   "cell_type": "code",
   "execution_count": 4,
   "metadata": {},
   "outputs": [
    {
     "name": "stdout",
     "output_type": "stream",
     "text": [
      "HARDCODED upperclip to 1993. Disable it if not needed !!!\n",
      "Computing mean and std for normalization\n",
      "[TimePredictorDataset] Data: 80x2x(2048, 2048) Patch:512 Random:1 Aug:True Q:0.995 UpperClip:0Uncor:False ChW:[1.0, 1.0]\n"
     ]
    },
    {
     "name": "stderr",
     "output_type": "stream",
     "text": [
      "100%|██████████| 21/21 [02:56<00:00,  8.40s/it]\n"
     ]
    },
    {
     "name": "stdout",
     "output_type": "stream",
     "text": [
      "HARDCODED upperclip to 1993. Disable it if not needed !!!\n",
      "[TimePredictorDataset] Data: 10x2x(2048, 2048) Patch:512 Random:0 Aug:False Q:0.995 UpperClip:0Uncor:False ChW:[1.0, 1.0]\n"
     ]
    },
    {
     "name": "stderr",
     "output_type": "stream",
     "text": [
      "100%|██████████| 21/21 [00:23<00:00,  1.13s/it]\n"
     ]
    }
   ],
   "source": [
    "train_set, val_set = get_datasets(opt, tiled_pred=False)"
   ]
  },
  {
   "cell_type": "code",
   "execution_count": 9,
   "metadata": {},
   "outputs": [],
   "source": [
    "from model.ddpm_modules.time_predictor import TimePredictor\n",
    "model_opt = opt['model']\n",
    "model = TimePredictor(\n",
    "        in_channel=model_opt['unet']['in_channel'],\n",
    "        out_channel=model_opt['unet']['out_channel'],\n",
    "        norm_groups=model_opt['unet']['norm_groups'],\n",
    "        inner_channel=model_opt['unet']['inner_channel'],\n",
    "        channel_mults=model_opt['unet']['channel_multiplier'],\n",
    "        attn_res=model_opt['unet']['attn_res'],\n",
    "        res_blocks=model_opt['unet']['res_blocks'],\n",
    "        dropout=model_opt['unet']['dropout'],\n",
    "        image_size=opt['datasets']['patch_size'],\n",
    "        )\n",
    "model = model.cuda()\n"
   ]
  },
  {
   "cell_type": "code",
   "execution_count": 10,
   "metadata": {},
   "outputs": [],
   "source": [
    "# create data loaders.\n",
    "from torch.utils.data import DataLoader\n",
    "train_loader = DataLoader(train_set, batch_size=opt['datasets']['train']['batch_size'], shuffle=True, num_workers=opt['datasets']['train']['num_workers'])\n",
    "val_loader = DataLoader(val_set, batch_size=opt['datasets']['train']['batch_size'], shuffle=False, num_workers=opt['datasets']['train']['num_workers'])\n",
    "\n",
    "# create optimizer.\n",
    "import torch\n",
    "from torch.optim import Adam\n",
    "optimizer = Adam(model.parameters(), lr=opt['train']['optimizer']['lr'])\n",
    "\n",
    "# create loss function.\n",
    "loss_fn = torch.nn.MSELoss()\n",
    "\n"
   ]
  },
  {
   "cell_type": "code",
   "execution_count": 11,
   "metadata": {},
   "outputs": [
    {
     "name": "stderr",
     "output_type": "stream",
     "text": [
      "0it [00:00, ?it/s]/localscratch/miniforge3/envs/usplit_vdi/lib/python3.9/site-packages/torch/nn/functional.py:1967: UserWarning: nn.functional.sigmoid is deprecated. Use torch.sigmoid instead.\n",
      "  warnings.warn(\"nn.functional.sigmoid is deprecated. Use torch.sigmoid instead.\")\n",
      "loss 0.07421324979513884: : 33it [00:05,  5.73it/s]"
     ]
    }
   ],
   "source": [
    "# start training with pytorch.\n",
    "from tqdm import tqdm\n",
    "import numpy as np\n",
    "\n",
    "# tqdm bar with loss \n",
    "bar = tqdm(enumerate(train_loader))\n",
    "loss_arr = []\n",
    "num_epochs = 10\n",
    "for epoch in range(num_epochs):\n",
    "    for i, (x, y) in bar:\n",
    "        model.train()\n",
    "        optimizer.zero_grad()\n",
    "        x = x.cuda()\n",
    "        y = y.cuda()\n",
    "        y_pred = model(x)\n",
    "        loss = loss_fn(y_pred, y.type(torch.float32))\n",
    "        loss.backward()\n",
    "        loss_arr.append(loss.item())\n",
    "        bar.set_description(f'loss {np.mean(loss_arr[-20:])}')\n",
    "        optimizer.step()\n",
    "\n",
    "model.eval()\n",
    "# for i, (x, y) in enumerate(val_loader):\n",
    "#     y_pred = model(x)\n",
    "#     loss = loss_fn(y_pred, y)\n",
    "#     print(f'epoch {epoch}, val iter {i}, loss {loss.item()}')\n",
    "# torch.save(model.state_dict(), f'./model_{epoch}.pth')\n"
   ]
  },
  {
   "cell_type": "code",
   "execution_count": 8,
   "metadata": {},
   "outputs": [
    {
     "data": {
      "text/plain": [
       "<Axes: >"
      ]
     },
     "execution_count": 8,
     "metadata": {},
     "output_type": "execute_result"
    },
    {
     "data": {
      "image/png": "[encoded data removed]",
      "text/plain": [
       "<Figure size 640x480 with 1 Axes>"
      ]
     },
     "metadata": {},
     "output_type": "display_data"
    }
   ],
   "source": [
    "import matplotlib.pyplot as plt\n",
    "import pandas as pd\n",
    "pd.Series(loss_arr).to_frame('Loss').rolling(10).mean().plot()"
   ]
  },
  {
   "cell_type": "code",
   "execution_count": null,
   "metadata": {},
   "outputs": [],
   "source": []
  }
 ],
 "metadata": {
  "kernelspec": {
   "display_name": "Python 3",
   "language": "python",
   "name": "python3"
  },
  "language_info": {
   "codemirror_mode": {
    "name": "ipython",
    "version": 3
   },
   "file_extension": ".py",
   "mimetype": "text/x-python",
   "name": "python",
   "nbconvert_exporter": "python",
   "pygments_lexer": "ipython3",
   "version": "3.9.19"
  }
 },
 "nbformat": 4,
 "nbformat_minor": 2
}
